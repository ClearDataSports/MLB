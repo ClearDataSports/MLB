{
 "cells": [
  {
   "cell_type": "markdown",
   "metadata": {},
   "source": [
    "### Entities"
   ]
  },
  {
   "cell_type": "markdown",
   "metadata": {},
   "source": [
    "The CDSA MLB Catalog contains the following entities.\n",
    "\n",
    "* Game\n",
    "* Batter\n",
    "* [Pitcher](mlb pitcher.ipynb)\n",
    "* Team\n",
    "* Ballpark\n",
    "* Season"
   ]
  },
  {
   "cell_type": "markdown",
   "metadata": {},
   "source": [
    "The following KeyWords are used to associate Entity Features.\n",
    "\n",
    "* Basic\n",
    "* Advanced\n",
    "* Prop\n",
    "* At-Bat\n",
    "* Pitch\n",
    "* Inning\n",
    "* Game\n",
    "* YTD\n",
    "* L3\n",
    "* L10\n",
    "* L25\n",
    "* L50\n",
    "* L100\n",
    "* L200\n",
    "* L250\n",
    "* L500\n",
    "* L600\n",
    "* L700"
   ]
  }
 ],
 "metadata": {
  "kernelspec": {
   "display_name": "R",
   "language": "R",
   "name": "ir"
  },
  "language_info": {
   "codemirror_mode": "r",
   "file_extension": ".r",
   "mimetype": "text/x-r-source",
   "name": "R",
   "pygments_lexer": "r",
   "version": "3.3.2"
  }
 },
 "nbformat": 4,
 "nbformat_minor": 2
}
