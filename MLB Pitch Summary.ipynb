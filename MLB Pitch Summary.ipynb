{
 "cells": [
  {
   "cell_type": "markdown",
   "metadata": {},
   "source": [
    "### MLB Pitch Summary\n",
    "\n",
    "Features for a Pitch Type thrown by a pitcher for a given Time Period.  \n",
    "\n",
    "Note that the Time Period is NOT specified here although it probably should be.\n"
   ]
  },
  {
   "cell_type": "markdown",
   "metadata": {},
   "source": [
    "***\n",
    "Features\n",
    "* Pitch Type\n",
    "* Velocity Average\n",
    "* Spin Rate Average\n",
    "* Break Angle Average\n",
    "* Break Length Average\n",
    "* Swinging Strikes\n",
    "* Pitch Count\n",
    "* Pitch Velocities (velocity of every pitch)\n",
    "* [Swinging Strike Average](features/ss_avg.ipynb)"
   ]
  },
  {
   "cell_type": "code",
   "execution_count": null,
   "metadata": {
    "collapsed": true
   },
   "outputs": [],
   "source": []
  }
 ],
 "metadata": {
  "kernelspec": {
   "display_name": "R",
   "language": "R",
   "name": "ir"
  },
  "language_info": {
   "codemirror_mode": "r",
   "file_extension": ".r",
   "mimetype": "text/x-r-source",
   "name": "R",
   "pygments_lexer": "r",
   "version": "3.3.2"
  }
 },
 "nbformat": 4,
 "nbformat_minor": 2
}
