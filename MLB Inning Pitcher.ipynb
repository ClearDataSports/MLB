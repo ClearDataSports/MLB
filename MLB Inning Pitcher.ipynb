{
 "cells": [
  {
   "cell_type": "markdown",
   "metadata": {},
   "source": [
    "### MLB Inning Pitcher\n",
    "\n",
    "Summary of each Pitch Type for each Inning.\n",
    "\n",
    "Time Frames\n",
    "* Inning\n",
    "* Game"
   ]
  },
  {
   "cell_type": "markdown",
   "metadata": {},
   "source": [
    "***\n",
    "Features\n",
    "* Game Date\n",
    "* Team ID\n",
    "* Pitcher ID\n",
    "* Inning Number\n",
    "* Batters Faced\n",
    "* Pitch Summaries ([MLB Pitch Summary](mlb pitch summary.ipynb))"
   ]
  },
  {
   "cell_type": "code",
   "execution_count": null,
   "metadata": {
    "collapsed": true
   },
   "outputs": [],
   "source": []
  }
 ],
 "metadata": {
  "kernelspec": {
   "display_name": "R",
   "language": "R",
   "name": "ir"
  },
  "language_info": {
   "codemirror_mode": "r",
   "file_extension": ".r",
   "mimetype": "text/x-r-source",
   "name": "R",
   "pygments_lexer": "r",
   "version": "3.3.2"
  }
 },
 "nbformat": 4,
 "nbformat_minor": 2
}
